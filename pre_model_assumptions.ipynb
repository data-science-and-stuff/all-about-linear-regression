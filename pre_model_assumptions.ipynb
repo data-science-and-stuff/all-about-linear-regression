{
 "cells": [
  {
   "cell_type": "code",
   "execution_count": 14,
   "metadata": {
    "colab": {},
    "colab_type": "code",
    "id": "WgoOizKtPNaZ"
   },
   "outputs": [],
   "source": [
    "import scipy.stats as sc\n",
    "from scipy.stats import anderson \n",
    "import seaborn as sns\n",
    "import matplotlib.pyplot as plt\n",
    "from statsmodels.stats.outliers_influence import variance_inflation_factor\n",
    "from statsmodels.tools.tools import add_constant"
   ]
  },
  {
   "cell_type": "code",
   "execution_count": 15,
   "metadata": {
    "colab": {},
    "colab_type": "code",
    "id": "ahAeFCXEZY_S"
   },
   "outputs": [],
   "source": [
    "# anderson darling test to check if the target is normally distributed\n",
    "def anderson_darling(df, target):\n",
    "  return sc.anderson(df[target], dist='norm')"
   ]
  },
  {
   "cell_type": "code",
   "execution_count": 16,
   "metadata": {
    "colab": {},
    "colab_type": "code",
    "id": "X_jpRskWZaMs"
   },
   "outputs": [],
   "source": [
    "# visual inspection to check if the target is normally distributed\n",
    "def plot_histogram(df, target):\n",
    "  sns.distplot(df[target], \n",
    "             hist=True, \n",
    "             kde=True, \n",
    "             color = 'grey', \n",
    "             bins=15, \n",
    "             hist_kws={'edgecolor':'black'}, \n",
    "             kde_kws={'linewidth': 2}\n",
    "             )\n"
   ]
  },
  {
   "cell_type": "code",
   "execution_count": 17,
   "metadata": {
    "colab": {},
    "colab_type": "code",
    "id": "nBe2t1i1fTht"
   },
   "outputs": [],
   "source": [
    "# correlation values\n",
    "def corr_matrix(df):\n",
    "    plt.subplots(figsize=(10,8))\n",
    "    corr_x1 = df.corr()\n",
    "    sns.heatmap(corr_x1, annot=True)\n",
    "    return plt.show()"
   ]
  },
  {
   "cell_type": "code",
   "execution_count": 18,
   "metadata": {},
   "outputs": [],
   "source": [
    "# variation inflation factor\n",
    "def var_inf_fac(df):\n",
    "    vif = pd.DataFrame()\n",
    "    vif[\"features\"] = df.columns\n",
    "    vif[\"vif\"] = [variance_inflation_factor(df.values, i) for i in range(df.shape[1])]\n",
    "    return vif"
   ]
  },
  {
   "cell_type": "code",
   "execution_count": 19,
   "metadata": {},
   "outputs": [],
   "source": [
    "# function to visually check the linear relationship between the predictor (or independent variables) and the target (or the dependent variable)\n",
    "def linear_relation(df_X, df_y):\n",
    "    features = list(df_X.columns)\n",
    "    target = df_y\n",
    "    \n",
    "    plt.figure(figsize=(25,12))\n",
    "    for i, col in enumerate(features):\n",
    "        plt.subplot(3, (len(features)+2)/3 , i+1)\n",
    "        x = df_X[col]\n",
    "        y = target\n",
    "        plt.scatter(x, y, marker='o')\n",
    "        plt.xlabel(col)\n",
    "        plt.ylabel(df_y.columns)"
   ]
  }
 ],
 "metadata": {
  "colab": {
   "collapsed_sections": [],
   "name": "pre_model_assumptions.ipynb",
   "provenance": []
  },
  "kernelspec": {
   "display_name": "Python 3",
   "language": "python",
   "name": "python3"
  },
  "language_info": {
   "codemirror_mode": {
    "name": "ipython",
    "version": 3
   },
   "file_extension": ".py",
   "mimetype": "text/x-python",
   "name": "python",
   "nbconvert_exporter": "python",
   "pygments_lexer": "ipython3",
   "version": "3.7.3"
  }
 },
 "nbformat": 4,
 "nbformat_minor": 1
}
