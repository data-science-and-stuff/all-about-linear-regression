{
  "nbformat": 4,
  "nbformat_minor": 0,
  "metadata": {
    "colab": {
      "name": "pre_model_assumptions.ipynb",
      "provenance": [],
      "collapsed_sections": []
    },
    "kernelspec": {
      "name": "python3",
      "display_name": "Python 3"
    }
  },
  "cells": [
    {
      "cell_type": "code",
      "metadata": {
        "id": "WgoOizKtPNaZ",
        "colab_type": "code",
        "colab": {}
      },
      "source": [
        "import scipy.stats as sc\n",
        "from scipy.stats import anderson\n",
        "import seaborn as sns"
      ],
      "execution_count": 0,
      "outputs": []
    },
    {
      "cell_type": "code",
      "metadata": {
        "id": "ahAeFCXEZY_S",
        "colab_type": "code",
        "colab": {}
      },
      "source": [
        "# anderson darling test to check if the target is normally distributed\n",
        "def anderson_darling(df, target):\n",
        "  return sc.anderson(df[target], dist='norm')"
      ],
      "execution_count": 0,
      "outputs": []
    },
    {
      "cell_type": "code",
      "metadata": {
        "id": "X_jpRskWZaMs",
        "colab_type": "code",
        "colab": {}
      },
      "source": [
        "# visual inspection to check if the target is normally distributed\n",
        "def plot_histogram(df, target):\n",
        "  sns.distplot(df[target], \n",
        "             hist=True, \n",
        "             kde=True, \n",
        "             color = 'grey', \n",
        "             bins=15, \n",
        "             hist_kws={'edgecolor':'black'}, \n",
        "             kde_kws={'linewidth': 2}\n",
        "             )\n"
      ],
      "execution_count": 0,
      "outputs": []
    },
    {
      "cell_type": "code",
      "metadata": {
        "id": "nBe2t1i1fTht",
        "colab_type": "code",
        "colab": {}
      },
      "source": [
        "# correlation values\n",
        "def corr_matrix(df):\n",
        "  return df.corr().style.background_gradient(cmap='RdBu_r')"
      ],
      "execution_count": 0,
      "outputs": []
    }
  ]
}