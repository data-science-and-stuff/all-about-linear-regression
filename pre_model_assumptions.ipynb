{
 "cells": [
  {
   "cell_type": "code",
   "execution_count": 31,
   "metadata": {
    "colab": {},
    "colab_type": "code",
    "id": "WgoOizKtPNaZ"
   },
   "outputs": [],
   "source": [
    "import scipy.stats as sc\n",
    "from scipy.stats import anderson\n",
    "import seaborn as sns\n",
    "import matplotlib.pyplot as plt"
   ]
  },
  {
   "cell_type": "code",
   "execution_count": 32,
   "metadata": {
    "colab": {},
    "colab_type": "code",
    "id": "ahAeFCXEZY_S"
   },
   "outputs": [],
   "source": [
    "# anderson darling test to check if the target is normally distributed\n",
    "def anderson_darling(df, target):\n",
    "  return sc.anderson(df[target], dist='norm')"
   ]
  },
  {
   "cell_type": "code",
   "execution_count": 33,
   "metadata": {
    "colab": {},
    "colab_type": "code",
    "id": "X_jpRskWZaMs"
   },
   "outputs": [],
   "source": [
    "# visual inspection to check if the target is normally distributed\n",
    "def plot_histogram(df, target):\n",
    "  sns.distplot(df[target], \n",
    "             hist=True, \n",
    "             kde=True, \n",
    "             color = 'grey', \n",
    "             bins=15, \n",
    "             hist_kws={'edgecolor':'black'}, \n",
    "             kde_kws={'linewidth': 2}\n",
    "             )\n"
   ]
  },
  {
   "cell_type": "code",
   "execution_count": 34,
   "metadata": {
    "colab": {},
    "colab_type": "code",
    "id": "nBe2t1i1fTht"
   },
   "outputs": [],
   "source": [
    "# correlation values\n",
    "def corr_matrix(df):\n",
    "    plt.subplots(figsize=(10,8))\n",
    "    corr_x1 = df.corr()\n",
    "    sns.heatmap(corr_x1, annot=True)\n",
    "    return plt.show()"
   ]
  },
  {
   "cell_type": "code",
   "execution_count": null,
   "metadata": {},
   "outputs": [],
   "source": []
  }
 ],
 "metadata": {
  "colab": {
   "collapsed_sections": [],
   "name": "pre_model_assumptions.ipynb",
   "provenance": []
  },
  "kernelspec": {
   "display_name": "Python 3",
   "language": "python",
   "name": "python3"
  },
  "language_info": {
   "codemirror_mode": {
    "name": "ipython",
    "version": 3
   },
   "file_extension": ".py",
   "mimetype": "text/x-python",
   "name": "python",
   "nbconvert_exporter": "python",
   "pygments_lexer": "ipython3",
   "version": "3.7.3"
  }
 },
 "nbformat": 4,
 "nbformat_minor": 1
}
