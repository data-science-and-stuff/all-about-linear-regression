{
 "cells": [
  {
   "cell_type": "code",
   "execution_count": 77,
   "metadata": {},
   "outputs": [],
   "source": [
    "import pandas as pd\n",
    "import numpy as np\n",
    "import matplotlib.pyplot as plt"
   ]
  },
  {
   "cell_type": "code",
   "execution_count": 78,
   "metadata": {},
   "outputs": [],
   "source": [
    "# Predicted vs. Actual values\n",
    "def get_pva_table(X_test, y_test, model):\n",
    "    model.score(X_test, y_test)\n",
    "    y_pred = model.predict(X_test)\n",
    "    table = y_test.copy()\n",
    "    table['pred'] = y_pred\n",
    "    print(table)"
   ]
  },
  {
   "cell_type": "code",
   "execution_count": 79,
   "metadata": {},
   "outputs": [],
   "source": [
    "# Predicted vs. Actual plot\n",
    "def get_pva_plot(X_test, y_test, model):\n",
    "    f, ax = plt.subplots(figsize=(10, 10))\n",
    "    model.score(X_test, y_test)\n",
    "    y_pred = model.predict(X_test)\n",
    "    ax.scatter(y_pred, y_test)\n",
    "    ax.plot(ax.get_xlim(), ax.get_ylim(), ls=\"--\", c=\".3\")\n",
    "    ax.set_xlabel(\"predicted\")\n",
    "    ax.set_ylabel(\"actual\")\n",
    "    plt.show()"
   ]
  },
  {
   "cell_type": "code",
   "execution_count": 80,
   "metadata": {},
   "outputs": [],
   "source": [
    "# Error chart\n",
    "def get_error_chart(X_test, y_test, model):\n",
    "    f, ax = plt.subplots(figsize=(10, 10))\n",
    "    model.score(X_test, y_test)\n",
    "    y_pred = model.predict(X_test)\n",
    "    if type(y_pred[0]) != list(): \n",
    "        error = y_test -pd.DataFrame(list(y_pred)).to_numpy()\n",
    "    else:\n",
    "        error = y_test - y_pred\n",
    "    ax.scatter(y_pred, error)\n",
    "    ax.axhline(y=0, color='r', linestyle='-')\n",
    "    plt.show()"
   ]
  },
  {
   "cell_type": "code",
   "execution_count": 81,
   "metadata": {},
   "outputs": [],
   "source": [
    "from sklearn.metrics import mean_squared_error\n",
    "from sklearn.metrics import mean_absolute_error\n",
    "def get_metrics(X_train, X_test, y_train, y_test, model, evaluation, name):\n",
    "    R2_train = model.score(X_train, y_train)\n",
    "    R2_test = model.score(X_test, y_test)\n",
    "    y_pred = model.predict(X_test)\n",
    "    mse = mean_squared_error(y_test, y_pred)\n",
    "    mae = mean_absolute_error(y_test, y_pred)\n",
    "    evaluated = [R2_train, R2_test, mse, np.sqrt(mse), mae]\n",
    "    evaluated = pd.DataFrame([evaluated], columns=['Train_R2', 'Test_R2', 'MSE', 'RMSE', 'MAE'], index=[name])\n",
    "    evaluation = pd.concat([evaluation, evaluated], axis=0)\n",
    "    return evaluation\n"
   ]
  }
 ],
 "metadata": {
  "file_extension": ".py",
  "kernelspec": {
   "display_name": "Python 3",
   "language": "python",
   "name": "python3"
  },
  "language_info": {
   "codemirror_mode": {
    "name": "ipython",
    "version": 3
   },
   "file_extension": ".py",
   "mimetype": "text/x-python",
   "name": "python",
   "nbconvert_exporter": "python",
   "pygments_lexer": "ipython3",
   "version": "3.7.3"
  },
  "mimetype": "text/x-python",
  "name": "python",
  "npconvert_exporter": "python",
  "pygments_lexer": "ipython3",
  "version": 3
 },
 "nbformat": 4,
 "nbformat_minor": 2
}
