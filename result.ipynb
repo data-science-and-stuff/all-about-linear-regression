{
 "nbformat": 4,
 "nbformat_minor": 2,
 "metadata": {
  "language_info": {
   "name": "python",
   "codemirror_mode": {
    "name": "ipython",
    "version": 3
   },
   "version": "3.8.2-final"
  },
  "orig_nbformat": 2,
  "file_extension": ".py",
  "mimetype": "text/x-python",
  "name": "python",
  "npconvert_exporter": "python",
  "pygments_lexer": "ipython3",
  "version": 3,
  "kernelspec": {
   "name": "python38232bit506fbd5ea23a412db8cbbfe29e24cef6",
   "display_name": "Python 3.8.2 32-bit"
  }
 },
 "cells": [
  {
   "cell_type": "code",
   "execution_count": 24,
   "metadata": {},
   "outputs": [],
   "source": [
    "# Predicted vs. Actual values\n",
    "def get_pva_table(X_test, y_test, model):\n",
    "    model.score(X_test, y_test)\n",
    "    y_pred = model.predict(X_test)\n",
    "    table = y_test.copy()\n",
    "    table['pred'] = y_pred\n",
    "    print(table)"
   ]
  },
  {
   "cell_type": "code",
   "execution_count": 25,
   "metadata": {},
   "outputs": [],
   "source": [
    "# Predicted vs. Actual plot\n",
    "def get_pva_plot(X_test, y_test, model):\n",
    "    f, ax = plt.subplots(figsize=(10, 10))\n",
    "    model.score(X_test, y_test)\n",
    "    y_pred = model.predict(X_test)\n",
    "    ax.scatter(y_pred, y_test)\n",
    "    ax.plot(ax.get_xlim(), ax.get_ylim(), ls=\"--\", c=\".3\")\n",
    "    ax.set_xlabel(\"predicted\")\n",
    "    ax.set_ylabel(\"actual\")\n",
    "    plt.show()"
   ]
  },
  {
   "cell_type": "code",
   "execution_count": 32,
   "metadata": {},
   "outputs": [],
   "source": [
    "# Error chart\n",
    "def get_error_chart(X_test, y_test, model):\n",
    "    f, ax = plt.subplots(figsize=(10, 10))\n",
    "    model.score(X_test, y_test)\n",
    "    y_pred = model.predict(X_test)\n",
    "    if type(y_pred[0]) != list(): \n",
    "        error = y_test -pd.DataFrame(list(y_pred)).to_numpy()\n",
    "    else:\n",
    "        error = y_test - y_pred\n",
    "    ax.scatter(y_pred, error)\n",
    "    ax.axhline(y=0, color='r', linestyle='-')\n",
    "    plt.show()"
   ]
  },
  {
   "cell_type": "code",
   "execution_count": null,
   "metadata": {},
   "outputs": [],
   "source": [
    "from sklearn.metrics import mean_squared_error\n",
    "from sklearn.metrics import mean_absolute_error\n",
    "def get_metrics(X_train, X_test, y_train, y_test, model):\n",
    "    R2_train = model.score(X_train, y_train)\n",
    "    R2_test = model.score(X_test, y_test)\n",
    "    y_pred = model.predict(X_test)\n",
    "    mse = mean_squared_error(y_test, y_pred)\n",
    "    mae = mean_absolute_error(y_test, y_pred)\n",
    "    print(\"R2(train):{0:.3f}, R2(test):{1:.3f}\".format(R2_train, R2_test))\n",
    "    print(\"MSE:{0:.2f}, RMSE:{1:.2f}, MAE:{2:.2f}\".format(mse, np.sqrt(mse), mae))"
   ]
  }
 ]
}